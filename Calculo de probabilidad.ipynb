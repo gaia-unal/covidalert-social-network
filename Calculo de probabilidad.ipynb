{
 "cells": [
  {
   "cell_type": "markdown",
   "metadata": {},
   "source": [
    "## LIBRERIAS NECESARIAS PARA EL PROGRAMA "
   ]
  },
  {
   "cell_type": "code",
   "execution_count": 1,
   "metadata": {},
   "outputs": [],
   "source": [
    "# Se cargan las librerias \n",
    "import numpy as np\n",
    "import networkx as nx\n",
    "import EoN\n",
    "import matplotlib.pyplot as plt\n",
    "import pandas as pd \n",
    "from   networkx.algorithms import community\n",
    "import matplotlib.cm as cm\n",
    "import random"
   ]
  },
  {
   "cell_type": "markdown",
   "metadata": {},
   "source": [
    "## FORMATO DE LOS DATOS QUE SE USA PARA CREAR EL GRAFO "
   ]
  },
  {
   "cell_type": "code",
   "execution_count": 2,
   "metadata": {},
   "outputs": [],
   "source": [
    "## Se cargan los datos de las aristas\n",
    "aristas = pd.read_excel('red_paula_basica.xlsx')"
   ]
  },
  {
   "cell_type": "markdown",
   "metadata": {},
   "source": [
    "## CLASES Y FUNCIONES PARA LA IMPLEMENTACION DEL ALGORITMO "
   ]
  },
  {
   "cell_type": "code",
   "execution_count": 3,
   "metadata": {},
   "outputs": [],
   "source": [
    "# ---------------------- CLASE PARA LA SIMULACION Y CALCULO DE LA PROBABILIDAD DE CONTAGIO -------------------------------\n",
    "class simulacion_sir():\n",
    "    def __init__(self, G, tau, gamma, infected):\n",
    "        \n",
    "    # DATOS DE ENTRADA\n",
    "    # G        : Grafo                (grafo de networkx) \n",
    "    # tau      : tasa de contagio     (flotante)\n",
    "    # gamma    : tasa de recuperacion (flotante)\n",
    "    # infected : infectados iniciales (lista, iterable)\n",
    "    # REFERENCIAS\n",
    "    #  1) Infection in Social Networks: Using Network Analysis to Identify High-Risk\n",
    "    #     Individuals. R. M. Christley, G. L. Pinchbeck, R. G. Bowers, D. Clancy, N. P. French, R. Bennett, and\n",
    "    #     Turner. American Journal of Epidemiology. DOI: 10.1093/aje/kwi308\n",
    "    \n",
    "    # Parametros de la clase\n",
    "        N             = len(G.nodes())      # Poblacion total \n",
    "        n             = len(infected)       # Poblacion inicial infectada\n",
    "        self.n        = n                   # Infectados iniciales\n",
    "        self.tau      = tau                 # Tasa de transmision  \n",
    "        self.gamma    = gamma               # Tasa de recuperacion \n",
    "        self.R0       = tau/gamma           # Promedio de contagios por persona\n",
    "        self.G        = G                   # Red (grafo)\n",
    "        self.infected = infected            # Infectados iniciales\n",
    "        \n",
    "    # funcion que calcula retorna los nodos infectados en una simulacion\n",
    "    def infected_nodes(self):\n",
    "        \n",
    "        # DATOS DE SALIDA : finalI (diccionario con los nodos infectados)\n",
    "        \n",
    "        finalI = EoN.get_infected_nodes(self.G, self.tau, self.gamma, initial_infecteds = self.infected)\n",
    "        return(finalI)\n",
    "    \n",
    "    # funcion que calcula la probabilidad de contagio\n",
    "    def probabildad_contagio(self, nodo, NpersonasI = 1, Nsim = 1000):\n",
    "        \n",
    "        # DATOS DE ENTRADA: \n",
    "        # nodo : nodo al que se le calcula la probabilidad de contagio (lista con el nombre del nodo)\n",
    "        # Nsim : numero de simulaciones (Entero)\n",
    "        # NpersonasI : Cantidad inicial de personas infectadas (Entero)\n",
    "        # DATOS DE SALIDA : probabilidad_contagio (flotante)\n",
    "        \n",
    "        nodo       = nodo[0]                # Nodo que se desea conocer\n",
    "        cont       = 0                      # Contador \n",
    "        Nodospos   = list(self.G.nodes)     # Nodos que pueden realizar el contagio\n",
    "        Nodospos.pop(Nodospos.index(nodo))  \n",
    "        \n",
    "        for i in range(Nsim):\n",
    "            #simulacion = simulacion_sir(self.G, self.tau, self.gamma, random.sample(Nodospos,NpersonasI))\n",
    "            self.infected = random.sample(Nodospos,NpersonasI)\n",
    "            nodosI        = self.infected_nodes()\n",
    "            if (nodo in nodosI):\n",
    "                cont += 1\n",
    "        probabilidad_contagio = cont/Nsim\n",
    "        return(probabilidad_contagio)\n",
    "    \n",
    "    # funcion para graficar la red \n",
    "    def dibujar_red(self):\n",
    "        nx.draw(self.g, with_labels = True)\n",
    "        \n",
    "\n",
    "# ---------------------- FUNCION PARA LA CREACION DEL GRAFO -------------------------------------------------------\n",
    "def crear_grafo(aristas): \n",
    "    # DATOS DE ENTRADA: Data frame de pandas con las aristas y los pesos de la red \n",
    "    \n",
    "    aristas_array = aristas[['Origen','Destino','Peso']].to_numpy()\n",
    "    G             = nx.Graph()\n",
    "    for i in range(len(aristas_array)):\n",
    "        G.add_edge(aristas_array[i][0], aristas_array[i][1], weigth= aristas_array[i][2])\n",
    "    return(G)"
   ]
  },
  {
   "cell_type": "markdown",
   "metadata": {},
   "source": [
    "## APLICACION DEL METODO "
   ]
  },
  {
   "cell_type": "code",
   "execution_count": 4,
   "metadata": {},
   "outputs": [],
   "source": [
    "# Se crea al grafo y la clase simulacion \n",
    "G          = crear_grafo(aristas) \n",
    "simulacion = simulacion_sir(G,tau = 1.2, gamma = 1, infected = random.sample(G.nodes,1))"
   ]
  },
  {
   "cell_type": "code",
   "execution_count": 5,
   "metadata": {},
   "outputs": [
    {
     "name": "stdout",
     "output_type": "stream",
     "text": [
      "La probabilidad de contagio es 0.607\n"
     ]
    }
   ],
   "source": [
    "# Estimacion de la probabilidad de contagio \n",
    "nodo_principal = [3005105534]\n",
    "p_contagio     = simulacion.probabildad_contagio(nodo_principal, NpersonasI = 1, Nsim = 1000)\n",
    "print('La probabilidad de contagio es',p_contagio)"
   ]
  },
  {
   "cell_type": "code",
   "execution_count": null,
   "metadata": {},
   "outputs": [],
   "source": []
  },
  {
   "cell_type": "code",
   "execution_count": null,
   "metadata": {},
   "outputs": [],
   "source": []
  }
 ],
 "metadata": {
  "kernelspec": {
   "display_name": "Python 3",
   "language": "python",
   "name": "python3"
  },
  "language_info": {
   "codemirror_mode": {
    "name": "ipython",
    "version": 3
   },
   "file_extension": ".py",
   "mimetype": "text/x-python",
   "name": "python",
   "nbconvert_exporter": "python",
   "pygments_lexer": "ipython3",
   "version": "3.8.3"
  }
 },
 "nbformat": 4,
 "nbformat_minor": 4
}
